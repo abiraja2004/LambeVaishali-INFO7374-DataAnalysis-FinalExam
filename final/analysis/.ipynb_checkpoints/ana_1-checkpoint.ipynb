{
 "cells": [
  {
   "cell_type": "markdown",
   "metadata": {},
   "source": [
    "# Analysis 1\n",
    "\n",
    "* Zipf's Law on summaries column of movie reviews - do the words used there follow Zipf's Law?"
   ]
  },
  {
   "cell_type": "code",
   "execution_count": 1,
   "metadata": {
    "collapsed": false
   },
   "outputs": [],
   "source": [
    "# Import modules needed\n",
    "import csv\n",
    "import matplotlib.pyplot as plt      \n",
    "import nltk\n",
    "import numpy as np\n",
    "import os\n",
    "import pandas as pd\n",
    "import re\n",
    "\n",
    "from nltk import FreqDist\n",
    "from glob import glob\n",
    "from string import punctuation\n",
    "from string import whitespace\n",
    "\n",
    "%matplotlib inline\n",
    "\n",
    "# Path to the data directory into which the cleaned data is saved.\n",
    "csv_file_path = os.path.join(\"..\", \"data\", \"cleaned_data\", \"movie_reviews.csv\")\n",
    "if not os.path.exists(csv_file_path):\n",
    "    print(\"{} doesn't exist - perhaps the data cleaning script needs to be run?\".format(csv_file_path))"
   ]
  },
  {
   "cell_type": "code",
   "execution_count": 2,
   "metadata": {
    "collapsed": false
   },
   "outputs": [
    {
     "name": "stdout",
     "output_type": "stream",
     "text": [
      "['Charlie Hunnam stars in this period adventure story about love, loss and mystery in the Amazon from the director James Gray.', 'Cynthia Nixon brings a great 19th-century American poet to vivid life in Terence Davies’s new film.', '‘Norman: The Moderate Rise and Tragic Fall of a New York Fixer,’ Joseph Cedar’s latest film, pits Jew against Jew on the fringes of power and influence.', 'The director Jason Connery’s staid biopic is about the 19th-century golf pioneer Tom Morris and his son, with class conflict as a backdrop.', 'Teenage anxiety (voiced by Dash Shaw, Lena Dunham and others) takes a back seat to survival after an earthquake hits a cliffside high school.', 'In following nomads on a mission in Morocco, this tale considers the fortifying power of faith, while scrambling the viewer’s sense of time.', 'The documentary explores the artworks and pranks of an Italian trickster.', 'A family ventures beyond the bubble of gentrified Brooklyn to a small town and is thrown out of its comfort zone.', 'This documentary looks at a Guatemalan village that was wiped out during a civil war, and searches for one of the few survivors.', 'John Scheinfeld’s documentary about John Coltrane draws on interviews, including those with Bill Clinton, Carlos Santana and Cornel West.', 'In examining a violent suppression of university protesters in Bangkok, this film uses a mutating narrative to reflect the impossibility of revisiting history.', 'A Polish film follows its young protagonist as he flirts, attends parties until dawn and gyrates to a perpetual backbeat.', 'Life, death and a heart transplant are at the center of this French film that moves among three distinct groups.', 'Each installment of “Fast and Furious” is more enjoyably ludicrous than the last, even as the death of the star Paul Walker continues to hang over the franchise.', 'A railroad worker dutifully turns in the cash he finds strewn across on the tracks but soon comes to regret it in this incisive, funny Bulgarian film.', 'Manohla Dargis reviews Makoto Shinkai’s latest film, a lovely and touching Japanese animation in which teenagers find themselves trading bodies and lives.', 'An excruciating ethical problem arises for a man whose dream for his daughter — to win a scholarship to study in England — is threatened.', 'A New York teenager in low-income housing tries to establish a relationship with a young woman as he wrestles with his sanguinary pursuits.', 'Stephen Karam’s film adaptation of his own play is a comedy about students who don’t quite fit in but insist, in their clumsy way, on being heard.', 'Michael Caine, Alan Arkin and Morgan Freeman star in a comedy about old dudes who rob a bank, a remake of a 1979 movie.', 'Zoey Deutch relives a day repeatedly until she gets it right in this film based on a young-adult novel.', 'Taylor John Smith and Michael Shannon star in a sports film that transcends its stock characters for a while but eventually disappoints.', 'There are echoes of “Paris Is Burning” in this documentary, which chronicles a tight-knit community in New York. Yet there is a striking absence of elder mentors.', 'An enchantment with these groups comes through in this documentary, which captures music and the backstage buzz of the performers.', 'This movie by Jordan Peele, his first as a director of feature films, is a skillful hybrid, blending genres into something terrifying.', 'This 1974 film by the French director Philippe Garrel consists primarily of studies of young women, especially the actress Seberg.', 'Paul Toogood and Lloyd Stanton’s documentary talks to comedians about the rigors of the road and other stresses of their profession.', 'This thriller from Colm McCarthy, another variation on the zombie-apocalypse premise, combines philosophical debates with bloody tableaus.', 'In this satire about a TV reality comedy series, its star, Henry Phillips, suffers one indignity after another.', 'Two teenage boys in the 1990s bond over alt-rock only to have their friendship strained in this first feature directed by Miles Joris-Peyrafitte.', 'Prettily filmed yet parochial, this film follows two lovers through a mass starvation in the early 1930s.', 'This documentary reflects on a legacy of political turmoil as the director, Dominique Dubosc, returns to Paraguay after 40 years.', 'This animated tale of an orphan, freighted with the name Icare, or Icarus, is more charming than grim.', 'An animated movie for children is elevated by a fine vocal performance from Eddie Izzard.', 'Julianne Nicholson plays a Bronx high school teacher who tries to help three undocumented students cope with the threat of being discovered by the authorities.', 'The movie, directed by So Yong Kim, explores the mystery of unspoken love.', 'It’s the last day of school, and two teachers are getting ready to rumble in this comedy directed by Richie Keen.', 'Anne Hamilton’s film seems full of suspenseful promise as it opens on an isolated swath of the country’s heartland, but the story finds no traction.', 'Based on the first novel in Steinbeck’s Dust Bowl trilogy, this is a traditional historical drama with stale boilerplate dialogue. Mr. Franco stars and directs.', 'Written and directed by Kazik Radwanski, this film was shot in practically all hand-held almost close-ups.', 'Morgan Knibbe’s experimental film shows the difficulties and miseries confronting refugees to Europe.', 'This documentary from Pierre Deschamps offers a closer look at Mr. Redzepi and his new Nordic cuisine.', 'In Laszlo Nemes’s debut feature, Geza Rohrig plays a Sonderkommando hoping to bury a boy’s corpse rather than burn it in the ovens.', 'This film from Lisa Heenan and Isaebella Doherty looks at Polyface, a family-run farm in Northern Virginia that shuns chemical-heavy farming practices.', 'In Wuershan’s film, three Chinese treasure hunters go digging in Mongolia and find a gateway between the living and the dead.', 'A Hindu man falls for a Muslim woman in 18th-century India, in this film from Sanjay Leela Bhansali.', 'Two 40-something women who never quite grew up, or grew out of their childhood roles, are at the center of “Sisters,” directed by Jason Moore of “Pitch Perfect.”', 'In this fourth installment of the series, the Chipmunks travel to Florida when they think their human minder, Dave, is getting too chummy with his girlfriend.', 'J. J. Abrams, the director, turns out to be what this stagnant franchise needs: a superfan and pop culture savant.', 'This documentary-fiction hybrid from Simone Rapisarda Casanova follows a mountainside farmer and the man who is going to purchase his land.']\n"
     ]
    }
   ],
   "source": [
    "# read 'movie_reviews.csv' into a dataframe\n",
    "review_df = pd.read_csv(csv_file_path, quoting=2, parse_dates=True, infer_datetime_format=True, encoding=\"UTF-8\")\n",
    "\n",
    "line_list = review_df['summary_short'].tolist()\n",
    "print(line_list[:50])"
   ]
  },
  {
   "cell_type": "code",
   "execution_count": 3,
   "metadata": {
    "collapsed": false
   },
   "outputs": [
    {
     "name": "stdout",
     "output_type": "stream",
     "text": [
      "494996\n",
      "['charlie', 'hunnam', 'stars', 'in', 'this', 'period', 'adventure', 'story', 'about', 'love', 'loss', 'and', 'mystery', 'in', 'the', 'amazon', 'from', 'the', 'director', 'james', 'gray', 'cynthia', 'nixon', 'brings', 'a', 'great', 'century', 'american', 'poet', 'to', 'vivid', 'life', 'in', 'terence', 'davies', 's', 'new', 'film', 'norman', 'the', 'moderate', 'rise', 'and', 'tragic', 'fall', 'of', 'a', 'new', 'york', 'fixer', 'joseph', 'cedar', 's', 'latest', 'film', 'pits', 'jew', 'against', 'jew', 'on', 'the', 'fringes', 'of', 'power', 'and', 'influence', 'the', 'director', 'jason', 'connery', 's', 'staid', 'biopic', 'is', 'about', 'the', 'century', 'golf', 'pioneer', 'tom', 'morris', 'and', 'his', 'son', 'with', 'class', 'conflict', 'as', 'a', 'backdrop', 'teenage', 'anxiety', 'voiced', 'by', 'dash', 'shaw', 'lena', 'dunham', 'and', 'others', 'takes', 'a', 'back', 'seat', 'to', 'survival', 'after', 'an', 'earthquake', 'hits', 'a', 'cliffside', 'high', 'school', 'in', 'following', 'nomads', 'on', 'a', 'mission', 'in', 'morocco', 'this', 'tale', 'considers', 'the', 'fortifying', 'power', 'of', 'faith', 'while', 'scrambling', 'the', 'viewer', 's', 'sense', 'of', 'time', 'the', 'documentary', 'explores', 'the', 'artworks', 'and', 'pranks', 'of', 'an', 'italian', 'trickster', 'a', 'family', 'ventures', 'beyond', 'the', 'bubble', 'of', 'gentrified', 'brooklyn', 'to', 'a', 'small', 'town', 'and', 'is', 'thrown', 'out', 'of', 'its', 'comfort', 'zone', 'this', 'documentary', 'looks', 'at', 'a', 'guatemalan', 'village', 'that', 'was', 'wiped', 'out', 'during', 'a', 'civil', 'war', 'and', 'searches', 'for', 'one', 'of', 'the', 'few', 'survivors', 'john', 'scheinfeld', 's', 'documentary', 'about', 'john', 'coltrane']\n",
      "36081\n",
      "['a', 'a5a', 'aa', 'aaa', 'aaja', 'aaliyah', 'aalok', 'aamir', 'aarakshan', 'aardman', 'aarniokoski', 'aaron', 'aashayein', 'aasif', 'aatsinki', 'abagnale', 'abandon', 'abandoned', 'abandoning', 'abandonment', 'abandons', 'abasement', 'abate', 'abated', 'abbas', 'abbass', 'abberline', 'abbey', 'abbie', 'abbott', 'abbrescia', 'abbreviated', 'abby', 'abc', 'abcd', 'abdellatif', 'abderrahmane', 'abdication', 'abdirahman', 'abduct', 'abducted', 'abductees', 'abduction', 'abductions', 'abductor', 'abducts', 'abdul', 'abdullah', 'abedini', 'abel', 'abelard', 'abendland', 'aberdeen', 'abets', 'abetted', 'abhishek', 'abhorrent', 'abiding', 'abigail', 'abilities', 'ability', 'abimael', 'abiola', 'abkarian', 'abkhazia', 'ablaze', 'able', 'ably', 'abnegation', 'abner', 'abnormality', 'aboard', 'abominable', 'aboriginal', 'aborigine', 'aborted', 'abortion', 'abortionist', 'abortions', 'abound', 'abounds', 'about', 'above', 'abraham', 'abrahams', 'abramoff', 'abramovic', 'abrams', 'abrasive', 'abrasively', 'abreu', 'abridged', 'abridging', 'abril', 'abroad', 'abrupt', 'abruptly', 'abs', 'absence', 'absent']\n",
      "311070\n",
      "['charlie', 'hunnam', 'stars', 'period', 'adventure', 'story', 'love', 'loss', 'mystery', 'amazon', 'director', 'james', 'gray', 'cynthia', 'nixon', 'brings', 'great', 'century', 'american', 'poet', 'vivid', 'life', 'terence', 'davies', 'new', 'film', 'norman', 'moderate', 'rise', 'tragic', 'fall', 'new', 'york', 'fixer', 'joseph', 'cedar', 'latest', 'film', 'pits', 'jew', 'jew', 'fringes', 'power', 'influence', 'director', 'jason', 'connery', 'staid', 'biopic', 'century', 'golf', 'pioneer', 'tom', 'morris', 'son', 'class', 'conflict', 'backdrop', 'teenage', 'anxiety', 'voiced', 'dash', 'shaw', 'lena', 'dunham', 'others', 'takes', 'back', 'seat', 'survival', 'earthquake', 'hits', 'cliffside', 'high', 'school', 'following', 'nomads', 'mission', 'morocco', 'tale', 'considers', 'fortifying', 'power', 'faith', 'scrambling', 'viewer', 'sense', 'time', 'documentary', 'explores', 'artworks', 'pranks', 'italian', 'trickster', 'family', 'ventures', 'beyond', 'bubble', 'gentrified', 'brooklyn']\n",
      "35932\n",
      "['a5a', 'aa', 'aaa', 'aaja', 'aaliyah', 'aalok', 'aamir', 'aarakshan', 'aardman', 'aarniokoski', 'aaron', 'aashayein', 'aasif', 'aatsinki', 'abagnale', 'abandon', 'abandoned', 'abandoning', 'abandonment', 'abandons', 'abasement', 'abate', 'abated', 'abbas', 'abbass', 'abberline', 'abbey', 'abbie', 'abbott', 'abbrescia', 'abbreviated', 'abby', 'abc', 'abcd', 'abdellatif', 'abderrahmane', 'abdication', 'abdirahman', 'abduct', 'abducted', 'abductees', 'abduction', 'abductions', 'abductor', 'abducts', 'abdul', 'abdullah', 'abedini', 'abel', 'abelard', 'abendland', 'aberdeen', 'abets', 'abetted', 'abhishek', 'abhorrent', 'abiding', 'abigail', 'abilities', 'ability', 'abimael', 'abiola', 'abkarian', 'abkhazia', 'ablaze', 'able', 'ably', 'abnegation', 'abner', 'abnormality', 'aboard', 'abominable', 'aboriginal', 'aborigine', 'aborted', 'abortion', 'abortionist', 'abortions', 'abound', 'abounds', 'abraham', 'abrahams', 'abramoff', 'abramovic', 'abrams', 'abrasive', 'abrasively', 'abreu', 'abridged', 'abridging', 'abril', 'abroad', 'abrupt', 'abruptly', 'abs', 'absence', 'absent', 'absentee', 'absently', 'absolute']\n",
      "Removed 183926 stopwords from the corpus (37.16%)\n",
      "Removed 149 stopwords from the vocab (0.41%)\n"
     ]
    }
   ],
   "source": [
    "# Utility function for determining whether a word is one which we want to keep or not.\n",
    "#\n",
    "# Undesirable words are composed of punctuation, or digits, or are not even strings.\n",
    "#\n",
    "# w - the word to check\n",
    "#\n",
    "# returns - True if the word should be kept, otherwise False\n",
    "def is_desirable_word(w):\n",
    "    # Start with some quick tests.\n",
    "    if type(w) is not str:\n",
    "        return False\n",
    "    \n",
    "    if 0 == len(w):\n",
    "        return False\n",
    "    \n",
    "    # Remove punctuation.\n",
    "    if w in str(punctuation + '’`‘'):\n",
    "        return False\n",
    "    \n",
    "    # Remove single digits.\n",
    "    if w.isdigit():\n",
    "        return False\n",
    "    \n",
    "    # Remove numbers.\n",
    "    if re.match(r'[0-9]+', w):\n",
    "        return False\n",
    "\n",
    "    # Remove 'words' that consist entirely of punctuation, including some really odd ones :(\n",
    "    #'–', '—', '—:', '“', '“$', '“(', '“+', '“[', ½', '¿\n",
    "    if re.match(r'[!,&#\\[\\]\\(\\)”\"’`‘\\'\\.:;\\*\\$<>\\?%\\-_\\\\/–“—¿½]+', w):\n",
    "        return False\n",
    "    \n",
    "    return True\n",
    "\n",
    "\n",
    "# Define this once to be most efficient (instead of repeatedly inside the remove_html_entities function).\n",
    "html_entity_pattern = re.compile(\"&#[0-9]+;\")\n",
    "\n",
    "# Removes HTML entities from a line.\n",
    "#\n",
    "# returns - the line with HTML entities replaced by spaces (to avoid accidentally concatenating words)\n",
    "def remove_html_entities(l):\n",
    "    # There are some HTML entities that need to be removed: e.g. &quot;\n",
    "    result = l.replace(\"&quot;\", ' ')\n",
    "\n",
    "    result = html_entity_pattern.sub('', result)\n",
    "\n",
    "    # These were found in the code - there are probably more, so it's better to use\n",
    "    # a regex than to list them individually.  A regex is also more future-proof.\n",
    "    #result = result.replace(\"&#151;\", ' ')\n",
    "    #result = result.replace(\"&#231;\", ' ')\n",
    "    #result = result.replace(\"&#233;\", ' ')\n",
    "    #result = result.replace(\"&#235;\", ' ')\n",
    "    #result = result.replace(\"&#237;\", ' ')\n",
    "    #result = result.replace(\"&#239;\", ' ')\n",
    "    #result = result.replace(\"&#241;\", ' ')\n",
    "    #result = result.replace(\"&#8212;\", ' ')\n",
    "    #result = result.replace(\"&#8216;\", ' ')\n",
    "    #result = result.replace(\"&#8217;\", ' ')\n",
    "    #result = result.replace(\"&#8220;\", ' ')\n",
    "    #result = result.replace(\"&#8221;\", ' ')\n",
    "    \n",
    "    return result\n",
    "\n",
    "\n",
    "# Utility function to split lines into words.\n",
    "# Undesirable words are weeded out.\n",
    "#\n",
    "# line_list - List of lines to be split into words\n",
    "# verbose - True to print additional information, default is False\n",
    "# \n",
    "# returns - a list of words\n",
    "def split_lines_into_words(line_list, verbose=False):\n",
    "    result = []\n",
    "    for l in line_list:\n",
    "        if (type(l) == str):\n",
    "            try:\n",
    "                l = remove_html_entities(l)\n",
    "                new_words = nltk.wordpunct_tokenize(l)\n",
    "            \n",
    "                # Canonicalize  the words by lowercasing and removing punctuation.\n",
    "                new_words = [w.lower() for w in new_words if is_desirable_word(w)]\n",
    "                result.extend(new_words)\n",
    "                if verbose:\n",
    "                    print(\"adding {} words => now have {} words\".format(len(new_words), len(result)))\n",
    "            except:\n",
    "                print(\"[WARN] exception processing line: {}\".format(l))\n",
    "        \n",
    "    return result\n",
    "\n",
    "\n",
    "# Create lists of all words, all vocab, interesting words and interesting vocab.\n",
    "all_word_list = split_lines_into_words(line_list)\n",
    "all_word_count = len(all_word_list)\n",
    "print(all_word_count)\n",
    "print(all_word_list[0:200])\n",
    "\n",
    "all_vocab = sorted(set(all_word_list))\n",
    "all_vocab_count = len(all_vocab)\n",
    "print(all_vocab_count)\n",
    "print(all_vocab[0:100])\n",
    "\n",
    "# Remove stopwords to form the 'interesting' words and vocab.\n",
    "stopwords = nltk.corpus.stopwords.words('english')\n",
    "interesting_word_list = [w for w in all_word_list if w not in stopwords]\n",
    "interesting_word_count = len(interesting_word_list)\n",
    "print(interesting_word_count)\n",
    "print(interesting_word_list[0:100])\n",
    "\n",
    "interesting_vocab = sorted(set(interesting_word_list))\n",
    "interesting_vocab_count = len(interesting_vocab)\n",
    "print(interesting_vocab_count)\n",
    "print(interesting_vocab[0:100])\n",
    "\n",
    "# Print statistics about the number and percentage of words removed.\n",
    "removed_stopword_count = all_word_count - interesting_word_count\n",
    "removed_stopword_percentage = round((100 * removed_stopword_count) / all_word_count, 2)\n",
    "print(\"Removed {} stopwords from the corpus ({}%)\".format(removed_stopword_count, removed_stopword_percentage))\n",
    "\n",
    "removed_vocab_count = all_vocab_count - interesting_vocab_count\n",
    "removed_stopword_vocab_percentage = round((100 * removed_vocab_count) / all_vocab_count, 2)\n",
    "print(\"Removed {} stopwords from the vocab ({}%)\".format(removed_vocab_count, removed_stopword_vocab_percentage))"
   ]
  },
  {
   "cell_type": "code",
   "execution_count": 4,
   "metadata": {
    "collapsed": false
   },
   "outputs": [
    {
     "name": "stdout",
     "output_type": "stream",
     "text": [
      "Number of words: 311070\n",
      "Number of distinct words: 35932\n"
     ]
    }
   ],
   "source": [
    "# Get a frequency distribution for the interesting words.\n",
    "fd = FreqDist(interesting_word_list)\n",
    "print(\"Number of words: {}\".format(fd.N()))\n",
    "print(\"Number of distinct words: {}\".format(fd.B()))"
   ]
  },
  {
   "cell_type": "code",
   "execution_count": 5,
   "metadata": {
    "collapsed": false
   },
   "outputs": [
    {
     "data": {
      "text/plain": [
       "[('film', 2642),\n",
       " ('movie', 1713),\n",
       " ('comedy', 1287),\n",
       " ('documentary', 1286),\n",
       " ('new', 1190),\n",
       " ('one', 1134),\n",
       " ('drama', 1097),\n",
       " ('young', 1068),\n",
       " ('story', 1022),\n",
       " ('man', 980)]"
      ]
     },
     "execution_count": 5,
     "metadata": {},
     "output_type": "execute_result"
    }
   ],
   "source": [
    "# The most common words.\n",
    "fd.most_common(10)"
   ]
  },
  {
   "cell_type": "markdown",
   "metadata": {},
   "source": [
    "# Observation\n",
    "\n",
    "The field that this set of words comes from (movie reviews) is really obvious when looking at the 10 most common words:\n",
    "\n",
    "* film\n",
    "* movie\n",
    "* comedy\n",
    "* documentary\n",
    "* drama\n",
    "* story"
   ]
  },
  {
   "cell_type": "code",
   "execution_count": 6,
   "metadata": {
    "collapsed": true
   },
   "outputs": [],
   "source": [
    "freq_list = []\n",
    "for word in fd.keys():\n",
    "    freq_list.append([word, fd[word]])"
   ]
  },
  {
   "cell_type": "code",
   "execution_count": 7,
   "metadata": {
    "collapsed": true
   },
   "outputs": [],
   "source": [
    "# Sort the words by frequency, from high to low.\n",
    "sorted_freq_list = sorted(freq_list, key=lambda t:t[1], reverse=True)"
   ]
  },
  {
   "cell_type": "code",
   "execution_count": 8,
   "metadata": {
    "collapsed": true
   },
   "outputs": [],
   "source": [
    "# Create a Words Rank Frequency list save each elements as a sublist.\n",
    "rank = 1\n",
    "freq_rank_list = []\n",
    "for word in sorted_freq_list:\n",
    "    # Insert rank in the second position.\n",
    "    word.insert(1, rank)\n",
    "    rank += 1\n",
    "    freq_rank_list.append(word)"
   ]
  },
  {
   "cell_type": "code",
   "execution_count": 9,
   "metadata": {
    "collapsed": false
   },
   "outputs": [
    {
     "name": "stdout",
     "output_type": "stream",
     "text": [
      "[['film', 1, 2642], ['movie', 2, 1713], ['comedy', 3, 1287], ['documentary', 4, 1286], ['new', 5, 1190], ['one', 6, 1134], ['drama', 7, 1097], ['young', 8, 1068], ['story', 9, 1022], ['man', 10, 980], ['two', 11, 966], ['mr', 12, 959], ['life', 13, 913], ['old', 14, 868], ['like', 15, 842], ['good', 16, 810], ['love', 17, 746], ['directed', 18, 733], ['woman', 19, 715], ['director', 20, 695], ['family', 21, 690], ['world', 22, 680], ['american', 23, 658], ['time', 24, 596], ['war', 25, 589], ['stephen', 26, 533], ['via', 27, 531], ['first', 28, 520], ['scott', 29, 516], ['plays', 30, 514], ['well', 31, 513], ['holden', 32, 475], ['best', 33, 463], ['girl', 34, 453], ['much', 35, 450], ['high', 36, 445], ['star', 37, 441], ['set', 38, 438], ['year', 39, 437], ['whose', 40, 437], ['little', 41, 423], ['three', 42, 420], ['school', 43, 410], ['boy', 44, 409], ['british', 45, 405], ['tale', 46, 404], ['funny', 47, 397], ['stars', 48, 396], ['york', 49, 392], ['follows', 50, 391]]\n"
     ]
    }
   ],
   "source": [
    "print(freq_rank_list[:50])"
   ]
  },
  {
   "cell_type": "code",
   "execution_count": 10,
   "metadata": {
    "collapsed": true
   },
   "outputs": [],
   "source": [
    "# Writes a frequency-rank list to a CSV file.\n",
    "def create_csv(frequency_rank_list, file_name):\n",
    "    with open(file_name, 'w') as f:\n",
    "        w = csv.writer(f)\n",
    "        w.writerow([\"Words\", \"Rank\", \"Frequency\"]) # This is a recommended way. Do not add title in front of your list.\n",
    "        for item in frequency_rank_list:           # Otherwise your list will not be reuse later. \n",
    "            w.writerow(item[:])"
   ]
  },
  {
   "cell_type": "code",
   "execution_count": 11,
   "metadata": {
    "collapsed": false
   },
   "outputs": [],
   "source": [
    "zipfs_outfilepath = os.path.join('.', 'ana_1', 'Zipfs_law_review_text.csv')\n",
    "create_csv(freq_rank_list, zipfs_outfilepath)"
   ]
  },
  {
   "cell_type": "code",
   "execution_count": 12,
   "metadata": {
    "collapsed": true
   },
   "outputs": [],
   "source": [
    "ranks = [r[1] for r in freq_rank_list]\n",
    "freqs = [f[2] for f in freq_rank_list]"
   ]
  },
  {
   "cell_type": "code",
   "execution_count": 18,
   "metadata": {
    "collapsed": false
   },
   "outputs": [
    {
     "data": {
      "image/png": "[encoded data removed]",
      "text/plain": [
       "<matplotlib.figure.Figure at 0xbe9e6b3278>"
      ]
     },
     "metadata": {},
     "output_type": "display_data"
    }
   ],
   "source": [
    "# Show word rank and frequency relationship in log-log plot using matplotlib \n",
    "plt.loglog(ranks, freqs)\n",
    "plt.title(\"Zipf's Law for movie review summaries\", fontsize=18, fontweight='bold')\n",
    "plt.xlabel('Frequency', fontsize=14, fontweight='bold')\n",
    "plt.ylabel('Rank', fontsize=14, fontweight='bold')\n",
    "plt.grid(True)\n",
    "plt.show()"
   ]
  },
  {
   "cell_type": "markdown",
   "metadata": {},
   "source": [
    "# Observations:\n",
    "  * Above graph shows that review summary text words and frequency product is constant for majority of words ,though it is not true for all the words. Hence zipf's law holds true for most of the review summary words."
   ]
  }
 ],
 "metadata": {
  "anaconda-cloud": {},
  "kernelspec": {
   "display_name": "Python [default]",
   "language": "python",
   "name": "python3"
  },
  "language_info": {
   "codemirror_mode": {
    "name": "ipython",
    "version": 3
   },
   "file_extension": ".py",
   "mimetype": "text/x-python",
   "name": "python",
   "nbconvert_exporter": "python",
   "pygments_lexer": "ipython3",
   "version": "3.5.2"
  }
 },
 "nbformat": 4,
 "nbformat_minor": 1
}
