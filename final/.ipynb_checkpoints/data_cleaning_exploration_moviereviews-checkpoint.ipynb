{
 "cells": [
  {
   "cell_type": "markdown",
   "metadata": {},
   "source": [
    "# Data cleaning \n"
   ]
  },
  {
   "cell_type": "code",
   "execution_count": 1,
   "metadata": {
    "collapsed": false
   },
   "outputs": [
    {
     "name": "stdout",
     "output_type": "stream",
     "text": [
      ".\\data\\raw_data\\movie_reviews\n",
      ".\\data\\raw_data\\movie_reviews is a directory\n"
     ]
    }
   ],
   "source": [
    "# Import modules needed\n",
    "import numpy as np\n",
    "import pandas as pd\n",
    "import json\n",
    "import os\n",
    "\n",
    "import seaborn as sns\n",
    "sns.set(style='white',color_codes=True)\n",
    "\n",
    "import matplotlib.pyplot as plt\n",
    "%matplotlib inline\n",
    "\n",
    "# Path to the data directory into which downloaded JSON is saved.\n",
    "data_path = os.path.join(\".\", \"data\", \"raw_data\", \"movie_reviews\")\n",
    "print(data_path)\n",
    "\n",
    "# check if path doesn't exists, if not create directory\n",
    "if not os.path.exists(data_path):\n",
    "    print(\"Creating data directory: {}\".format(data_path))\n",
    "    os.makedirs(data_path)\n",
    "\n",
    "if os.path.isdir(data_path):\n",
    "    print(data_path + \" is a directory\")\n",
    "else:\n",
    "    print(data_path + \" is NOT a directory - something is wrong :(\")\n",
    "\n",
    "    \n",
    "# Path to the output directory.\n",
    "csv_file_path = os.path.join(\".\", \"data\", \"cleaned_data\", \"movie_reviews.csv\")"
   ]
  },
  {
   "cell_type": "code",
   "execution_count": 2,
   "metadata": {
    "collapsed": true
   },
   "outputs": [],
   "source": [
    "# Utility function to get the list of raw data JSON file paths.\n",
    "#\n",
    "# d - directory to search in\n",
    "# suffix - only return files ending with this suffix, defaults to \".json\"\n",
    "# returns a list of files \n",
    "def get_raw_json_file_paths(d, suffix='.json'):\n",
    "    \n",
    "    filelist = [f for f in os.listdir(d) if \n",
    "                os.path.isfile(os.path.join(d, f)) and f.endswith(suffix)]\n",
    "    \n",
    "    return filelist"
   ]
  },
  {
   "cell_type": "code",
   "execution_count": 3,
   "metadata": {
    "collapsed": true
   },
   "outputs": [],
   "source": [
    "# Utility function to restore the datetime type to date columns.\n",
    "#\n",
    "# df - dataframe to adjust\n",
    "# returns dataframe with date columns as datetime types\n",
    "def process_date_columns(df):\n",
    "    # Convert dates from object/string into datetime.\n",
    "    df['publication_date'] = pd.to_datetime(df['publication_date'])\n",
    "    df['date_updated'] = pd.to_datetime(df['date_updated'])\n",
    "\n",
    "    # opening_date has some 'interesting' data (e.g. 1998-00-00).\n",
    "\n",
    "    # Clean up any dates with the value \"0000-00-00\".\n",
    "    df.loc[df['opening_date'] == \"0000-00-00\", ['opening_date']] = None\n",
    "    \n",
    "    # Create columns containing the movie's year and month.\n",
    "    df['movie_year'] = None\n",
    "    df['movie_month'] = None\n",
    "    df['movie_month_name'] = None\n",
    "\n",
    "    # There are 13 entries here - we map any '0' months to January.\n",
    "    month_names = ['Jan', 'Jan', 'Feb', 'Mar', 'Apr', 'May', 'Jun', 'Jul', 'Aug', 'Sep', 'Oct', 'Nov', 'Dec']\n",
    "\n",
    "    for i, row in df.iterrows():\n",
    "\n",
    "        year = \"\"\n",
    "        month = \"\"\n",
    "        \n",
    "        if str == type(row['opening_date']):\n",
    "            # Use opening date.\n",
    "            if str(row['opening_date']).strip().endswith(\"00-00\"):\n",
    "                # Use publication date, opening date is bad.\n",
    "                year = str(row['publication_date'])[:4]\n",
    "                month = str(row['publication_date'])[5:7]\n",
    "\n",
    "            else:\n",
    "                # Use opening date.\n",
    "                year = str(row['opening_date'])[:4]\n",
    "                month = str(row['opening_date'])[5:7]\n",
    "\n",
    "        else:\n",
    "            # Otherwise use publication date.\n",
    "            year = str(row['publication_date'])[:4]\n",
    "            month = str(row['publication_date'])[5:7]\n",
    "\n",
    "        # Clean up months that have the value '0'.\n",
    "        if (0 == len(month)) or (0 == int(month)):\n",
    "            month = \"1\"\n",
    "            \n",
    "        df.loc[i, 'movie_year'] = int(year)\n",
    "        df.loc[i, 'movie_month'] = int(month)\n",
    "\n",
    "        # Convert month ordinals to names.\n",
    "        df.loc[i, 'movie_month_name'] = month_names[int(month)]\n",
    "    \n",
    "    return df\n",
    "    \n",
    "\n",
    "# Function to create a dataframe from a raw data file.\n",
    "#\n",
    "# The raw data file includes metadata from the server; this is excluded from the dataframe.\n",
    "#\n",
    "# f - path to raw data file\n",
    "# returns dataframe created from results in raw data file\n",
    "def create_data_frame(f, verbose=False):\n",
    "    if verbose:\n",
    "        print(\"create_data_frame() - filename: {}\".format(f))\n",
    "    \n",
    "    # Read the object.\n",
    "    reviews = None\n",
    "    with open(f, \"rt\", encoding=\"UTF-8\") as json_data:\n",
    "        reviews = json.load(json_data)\n",
    "        if verbose:\n",
    "            print(reviews)\n",
    "\n",
    "    reviews = reviews['results']\n",
    "    if verbose:\n",
    "        print(reviews)\n",
    "    \n",
    "    # Turn it into a data frame.\n",
    "    result = pd.DataFrame(reviews)\n",
    "    if verbose:\n",
    "        print(result.shape)\n",
    "        print(result.head(20))\n",
    "\n",
    "    \n",
    "    # Convert critics_pick from float to boolean.\n",
    "    result['critics_pick'] = result['critics_pick'].astype(bool)\n",
    "\n",
    "    # Columns without an MPAA rating can be filled with 'Not Rated'.\n",
    "    # The NYT API is inconsistent here, where other columns return null this one has an empty string :(\n",
    "    result.loc[result['mpaa_rating'] == \"\", 'mpaa_rating'] = \"Not Rated\"\n",
    "    \n",
    "    # Punctuation is inconsistent in this field, so remove it.\n",
    "    result['byline'] = result['byline'].str.replace('.', ' ')\n",
    "    result['byline'] = result['byline'].str.replace('-', ' ')\n",
    "    result['byline'] = result['byline'].str.replace('_', ' ')\n",
    "    result['byline'] = result['byline'].str.replace('%', ' ')\n",
    "    result['byline'] = result['byline'].str.replace(':', ' ')\n",
    "    result['byline'] = result['byline'].str.replace(']', ' ')\n",
    "    result['byline'] = result['byline'].str.replace('[', ' ')\n",
    "\n",
    "    # Some bylines end with a comma; remove it.\n",
    "    result.loc[result['byline'].str.endswith(','), ['byline']] = result['byline'].str[:-1]\n",
    "    \n",
    "    # Collapse runs of whitespace.\n",
    "    result['byline'] = result['byline'].str.replace('    ', ' ')\n",
    "    result['byline'] = result['byline'].str.replace('   ', ' ')\n",
    "    result['byline'] = result['byline'].str.replace('  ', ' ')\n",
    "\n",
    "    # Remove leading and trailing whitespace.\n",
    "    result['byline'] = result['byline'].str.strip()\n",
    "\n",
    "    # Bylines are mixed case, so convert to title case.\n",
    "    result['byline'] = result['byline'].str.title()\n",
    "\n",
    "    # These poor fellows have their names misspelled terribly.\n",
    "    result.loc[result['byline'] == \"Moroaunt Hall\", ['byline']] = \"Mordaunt Hall\"\n",
    "    result.loc[result['byline'] == \"Mokdaunt Hall\", ['byline']] = \"Mordaunt Hall\"\n",
    "    result.loc[result['byline'] == \"Modaunt Hall\", ['byline']] = \"Mordaunt Hall\"\n",
    "    result.loc[result['byline'] == \"Modaut Hall\", ['byline']] = \"Mordaunt Hall\"\n",
    "    result.loc[result['byline'] == \"Mordaut Hall\", ['byline']] = \"Mordaunt Hall\"\n",
    "\n",
    "    result.loc[result['byline'] == \"Bosuey Crowther\", ['byline']] = \"Bosley Crowther\"\n",
    "    result.loc[result['byline'] == \"Bossley Crowther\", ['byline']] = \"Bosley Crowther\"\n",
    "    result.loc[result['byline'] == \"Bosley Chowther\", ['byline']] = \"Bosley Crowther\"\n",
    "    \n",
    "    result.loc[result['byline'] == \"Andrbe Sennwald\", ['byline']] = \"Andre Sennwald\"\n",
    "    result.loc[result['byline'] == \"Andre Senn Wald\", ['byline']] = \"Andre Sennwald\"\n",
    "\n",
    "    \n",
    "    # Some summaries end in newline characters, some contain carriage returns and newlines.\n",
    "    result['summary_short'] = result['summary_short'].str.strip()\n",
    "    result['summary_short'] = result['summary_short'].str.replace('\\r', '')\n",
    "    result['summary_short'] = result['summary_short'].str.replace('\\n', '')\n",
    "\n",
    "    \n",
    "    # Convert dates from object/string into datetime.\n",
    "    result = process_date_columns(result)\n",
    "    \n",
    "    # Drop link (URL to full review) and multimedia (image) since we don't care about those.\n",
    "    return result.drop(['link', 'multimedia'], axis=1)"
   ]
  },
  {
   "cell_type": "code",
   "execution_count": 4,
   "metadata": {
    "collapsed": false
   },
   "outputs": [],
   "source": [
    "# Function to create a combined CSV file from a list of dataframes\n",
    "#\n",
    "# df_list - list of dataframes to combine and write\n",
    "# outfilepath - path to the CSV file to write\n",
    "# returns - the combined dataframe\n",
    "def create_combined_csv(df_list, outfilepath):\n",
    "    \n",
    "    combined_df = pd.concat(df_list)\n",
    "    print(combined_df.shape)\n",
    "    \n",
    "    # QUOTE_NONNUMERIC (2) because we expect commas to be present in text fields.\n",
    "    combined_df.to_csv(outfilepath, index=False, quoting=2, encoding=\"UTF-8\")\n",
    "    return combined_df"
   ]
  },
  {
   "cell_type": "code",
   "execution_count": 5,
   "metadata": {
    "collapsed": false
   },
   "outputs": [
    {
     "name": "stdout",
     "output_type": "stream",
     "text": [
      "Loaded 1345 dataframes\n"
     ]
    }
   ],
   "source": [
    "# call functions to create dataframe\n",
    "raw_data_file_names = get_raw_json_file_paths(data_path)\n",
    "dataframes = [create_data_frame(os.path.join(data_path, f), verbose=False) for f in raw_data_file_names]\n",
    "print(\"Loaded {} dataframes\".format(len(dataframes)))"
   ]
  },
  {
   "cell_type": "markdown",
   "metadata": {},
   "source": [
    "# Store cleaned data with required columns into .csv format"
   ]
  },
  {
   "cell_type": "code",
   "execution_count": 6,
   "metadata": {
    "collapsed": false
   },
   "outputs": [
    {
     "name": "stdout",
     "output_type": "stream",
     "text": [
      "(26893, 12)\n"
     ]
    }
   ],
   "source": [
    "# Write the combined CSV file.\n",
    "combined_df = create_combined_csv(dataframes, csv_file_path)"
   ]
  },
  {
   "cell_type": "markdown",
   "metadata": {},
   "source": [
    "# Data exploration"
   ]
  },
  {
   "cell_type": "code",
   "execution_count": 7,
   "metadata": {
    "collapsed": false
   },
   "outputs": [
    {
     "name": "stdout",
     "output_type": "stream",
     "text": [
      "<class 'pandas.core.frame.DataFrame'>\n",
      "RangeIndex: 26893 entries, 0 to 26892\n",
      "Data columns (total 12 columns):\n",
      "byline              26893 non-null object\n",
      "critics_pick        26893 non-null bool\n",
      "date_updated        26878 non-null datetime64[ns]\n",
      "display_title       26893 non-null object\n",
      "headline            26893 non-null object\n",
      "mpaa_rating         26893 non-null object\n",
      "opening_date        16971 non-null object\n",
      "publication_date    26893 non-null datetime64[ns]\n",
      "summary_short       20764 non-null object\n",
      "movie_year          26893 non-null object\n",
      "movie_month         26893 non-null object\n",
      "movie_month_name    26893 non-null object\n",
      "dtypes: bool(1), datetime64[ns](2), object(9)\n",
      "memory usage: 2.3+ MB\n",
      "None\n"
     ]
    }
   ],
   "source": [
    "# And read it back combined CSV file into dataframe\n",
    "restored_df = pd.read_csv(csv_file_path, quoting=2, parse_dates=True, infer_datetime_format=True, encoding=\"UTF-8\")\n",
    "restored_df = process_date_columns(restored_df)\n",
    "\n",
    "# explore the dataframe\n",
    "#print(restored_df.shape)\n",
    "print(restored_df.info())\n",
    "#print(restored_df.head(10))"
   ]
  },
  {
   "cell_type": "code",
   "execution_count": 8,
   "metadata": {
    "collapsed": false
   },
   "outputs": [
    {
     "name": "stdout",
     "output_type": "stream",
     "text": [
      "Index(['byline', 'critics_pick', 'date_updated', 'display_title', 'headline',\n",
      "       'mpaa_rating', 'opening_date', 'publication_date', 'summary_short',\n",
      "       'movie_year', 'movie_month', 'movie_month_name'],\n",
      "      dtype='object')\n"
     ]
    }
   ],
   "source": [
    "# see colmns of a dataframe\n",
    "print(restored_df.columns)"
   ]
  },
  {
   "cell_type": "code",
   "execution_count": 9,
   "metadata": {
    "collapsed": false
   },
   "outputs": [
    {
     "name": "stdout",
     "output_type": "stream",
     "text": [
      "                 byline critics_pick         date_updated display_title  \\\n",
      "count             26893        26893                26878         26893   \n",
      "unique              301            2                 3359         25744   \n",
      "top     Bosley Crowther        False  2016-09-23 12:44:01        Hamlet   \n",
      "freq               3022        23766                   16             7   \n",
      "first               NaN          NaN  2016-03-30 06:41:07           NaN   \n",
      "last                NaN          NaN  2017-04-18 16:44:26           NaN   \n",
      "\n",
      "        headline mpaa_rating opening_date     publication_date summary_short  \\\n",
      "count      26893       26893        16971                26893         20764   \n",
      "unique     26656           7         8064                12692         20718   \n",
      "top     Devotion   Not Rated   2014-01-10  2013-10-17 00:00:00      Routine.   \n",
      "freq           4       15656           16                   25             6   \n",
      "first        NaN         NaN          NaN  1915-10-20 00:00:00           NaN   \n",
      "last         NaN         NaN          NaN  2017-04-13 00:00:00           NaN   \n",
      "\n",
      "        movie_year  movie_month movie_month_name  \n",
      "count      26893.0      26893.0            26893  \n",
      "unique        99.0         12.0               12  \n",
      "top         2014.0         10.0              Oct  \n",
      "freq         886.0       2778.0             2778  \n",
      "first          NaN          NaN              NaN  \n",
      "last           NaN          NaN              NaN  \n"
     ]
    }
   ],
   "source": [
    "# describe the dataframe\n",
    "print(restored_df.describe())"
   ]
  },
  {
   "cell_type": "code",
   "execution_count": 10,
   "metadata": {
    "collapsed": false
   },
   "outputs": [
    {
     "name": "stdout",
     "output_type": "stream",
     "text": [
      "False    23766\n",
      "True      3127\n",
      "Name: critics_pick, dtype: int64\n",
      "Not Rated    15656\n",
      "R             5948\n",
      "PG-13         2477\n",
      "PG            2244\n",
      "G              482\n",
      "X               55\n",
      "NC-17           31\n",
      "Name: mpaa_rating, dtype: int64\n",
      "2014    886\n",
      "2013    812\n",
      "2015    783\n",
      "2016    771\n",
      "2011    700\n",
      "2012    691\n",
      "2007    605\n",
      "2008    604\n",
      "2009    581\n",
      "2010    575\n",
      "2002    465\n",
      "2000    432\n",
      "1998    427\n",
      "2003    420\n",
      "2006    419\n",
      "2001    412\n",
      "1997    411\n",
      "1936    402\n",
      "1999    400\n",
      "1996    370\n",
      "1995    368\n",
      "1934    364\n",
      "1988    362\n",
      "1933    360\n",
      "1987    353\n",
      "1932    351\n",
      "1993    347\n",
      "1986    346\n",
      "1994    337\n",
      "1991    336\n",
      "       ... \n",
      "1977    160\n",
      "1931    157\n",
      "1950    156\n",
      "1930    153\n",
      "1978    152\n",
      "1975    150\n",
      "1980    148\n",
      "1967    142\n",
      "1957    141\n",
      "1951    140\n",
      "1927    138\n",
      "1929    137\n",
      "1956    136\n",
      "1962    129\n",
      "1963    127\n",
      "1925    126\n",
      "1966    114\n",
      "1926    113\n",
      "1928    112\n",
      "1945    104\n",
      "1937     97\n",
      "1946     93\n",
      "1938     89\n",
      "1924     35\n",
      "2005     10\n",
      "1923      2\n",
      "1921      1\n",
      "1917      1\n",
      "1916      1\n",
      "1915      1\n",
      "Name: movie_year, dtype: int64\n",
      "10    2778\n",
      "9     2525\n",
      "3     2482\n",
      "4     2460\n",
      "5     2312\n",
      "11    2290\n",
      "8     2180\n",
      "6     2158\n",
      "12    2029\n",
      "2     1945\n",
      "7     1920\n",
      "1     1814\n",
      "Name: movie_month, dtype: int64\n",
      "Oct    2778\n",
      "Sep    2525\n",
      "Mar    2482\n",
      "Apr    2460\n",
      "May    2312\n",
      "Nov    2290\n",
      "Aug    2180\n",
      "Jun    2158\n",
      "Dec    2029\n",
      "Feb    1945\n",
      "Jul    1920\n",
      "Jan    1814\n",
      "Name: movie_month_name, dtype: int64\n"
     ]
    }
   ],
   "source": [
    "# display value counts for critics pick, mpaa rating , movie month , movie year\n",
    "print(restored_df['critics_pick'].value_counts())\n",
    "#print(restored_df['byline'].value_counts())\n",
    "print(restored_df['mpaa_rating'].value_counts())\n",
    "print(restored_df['movie_year'].value_counts())\n",
    "print(restored_df['movie_month'].value_counts())\n",
    "print(restored_df['movie_month_name'].value_counts())\n",
    "#print(restored_df[restored_df['movie_month'] == 0])"
   ]
  },
  {
   "cell_type": "code",
   "execution_count": 11,
   "metadata": {
    "collapsed": false
   },
   "outputs": [
    {
     "name": "stdout",
     "output_type": "stream",
     "text": [
      "byline                 0\n",
      "critics_pick           0\n",
      "date_updated          15\n",
      "display_title          0\n",
      "headline               0\n",
      "mpaa_rating            0\n",
      "opening_date        9922\n",
      "publication_date       0\n",
      "summary_short       6129\n",
      "movie_year             0\n",
      "movie_month            0\n",
      "movie_month_name       0\n",
      "dtype: int64\n"
     ]
    }
   ],
   "source": [
    "# check number of null values present in data\n",
    "print(restored_df.select_dtypes(exclude=[np.number]).isnull().sum())"
   ]
  },
  {
   "cell_type": "code",
   "execution_count": 12,
   "metadata": {
    "collapsed": false
   },
   "outputs": [
    {
     "data": {
      "text/plain": [
       "<matplotlib.text.Text at 0x3951d63f98>"
      ]
     },
     "execution_count": 12,
     "metadata": {},
     "output_type": "execute_result"
    },
    {
     "data": {
      "image/png": "[encoded data removed]",
      "text/plain": [
       "<matplotlib.figure.Figure at 0x394ed67358>"
      ]
     },
     "metadata": {},
     "output_type": "display_data"
    }
   ],
   "source": [
    "# plot a bar plot for mpaa_rating \n",
    "ax = restored_df.groupby('mpaa_rating').size().sort_values(ascending=False).plot(kind='bar')\n",
    "plt.title('Distribution_of_mpaa_rating')"
   ]
  },
  {
   "cell_type": "code",
   "execution_count": 13,
   "metadata": {
    "collapsed": true
   },
   "outputs": [],
   "source": [
    "#Function to create output data folder to store graph and .csv \n",
    "def create_directory_for_output():\n",
    "    current_dir = os.path.dirname('__file__')\n",
    "    data_folder = os.path.join(current_dir, 'exploratory_analysis')\n",
    "    if not os.path.exists(data_folder):\n",
    "        os.mkdir(data_folder)\n",
    "    return data_folder\n",
    "\n",
    "output_folder=create_directory_for_output()"
   ]
  },
  {
   "cell_type": "code",
   "execution_count": 14,
   "metadata": {
    "collapsed": true
   },
   "outputs": [],
   "source": [
    "# save the plot to output folder\n",
    "plot_name = 'distribution_of_mpaa_rating1'\n",
    "plot_path = os.path.join(output_folder, plot_name)\n",
    "plot_path+='.png'\n",
    "ax.figure.savefig(plot_path,bbox_inches='tight')"
   ]
  },
  {
   "cell_type": "code",
   "execution_count": 15,
   "metadata": {
    "collapsed": false
   },
   "outputs": [
    {
     "data": {
      "text/plain": [
       "<matplotlib.text.Text at 0x3951485668>"
      ]
     },
     "execution_count": 15,
     "metadata": {},
     "output_type": "execute_result"
    },
    {
     "data": {
      "image/png": "[encoded data removed]",
      "text/plain": [
       "<matplotlib.figure.Figure at 0x3951437da0>"
      ]
     },
     "metadata": {},
     "output_type": "display_data"
    }
   ],
   "source": [
    "# plot sns countplot for mpaa rating distribution\n",
    "sns.set_context(\"poster\")\n",
    "plt.figure(figsize=(14, 10))\n",
    "ax = sns.countplot(x=\"mpaa_rating\", data=restored_df, palette=\"hls\")\n",
    "plt.title('distribution_of_mpaa_rating')"
   ]
  },
  {
   "cell_type": "code",
   "execution_count": 16,
   "metadata": {
    "collapsed": true
   },
   "outputs": [],
   "source": [
    "# save the plot to output folder\n",
    "plot_name = 'distribution_of_mpaa_rating2'\n",
    "plot_path = os.path.join(output_folder, plot_name)\n",
    "plot_path+='.png'\n",
    "ax.figure.savefig(plot_path,bbox_inches='tight')"
   ]
  },
  {
   "cell_type": "code",
   "execution_count": 17,
   "metadata": {
    "collapsed": false
   },
   "outputs": [
    {
     "data": {
      "text/plain": [
       "<matplotlib.text.Text at 0x39514e0278>"
      ]
     },
     "execution_count": 17,
     "metadata": {},
     "output_type": "execute_result"
    },
    {
     "data": {
      "image/png": "[encoded data removed]",
      "text/plain": [
       "<matplotlib.figure.Figure at 0x3951d60ac8>"
      ]
     },
     "metadata": {},
     "output_type": "display_data"
    }
   ],
   "source": [
    "# plot sns countplot for publication date of reviews count\n",
    "sns.set_context(\"poster\")\n",
    "plt.figure(figsize=(14, 10))\n",
    "sns.set_style(\"whitegrid\")\n",
    "sns.set(font_scale=1.2)\n",
    "ax = sns.countplot(x=\"publication_date\", data=restored_df[:20], palette=\"BrBG\")\n",
    "plt.title('count of reviews over publication date(only 20 plotted)')"
   ]
  },
  {
   "cell_type": "code",
   "execution_count": 18,
   "metadata": {
    "collapsed": true
   },
   "outputs": [],
   "source": [
    "# save the plot to output folder\n",
    "plot_name = 'review_count_pubicationdates'\n",
    "plot_path = os.path.join(output_folder, plot_name)\n",
    "plot_path+='.png'\n",
    "ax.figure.savefig(plot_path,bbox_inches='tight')"
   ]
  },
  {
   "cell_type": "code",
   "execution_count": 19,
   "metadata": {
    "collapsed": false
   },
   "outputs": [
    {
     "data": {
      "text/plain": [
       "<matplotlib.text.Text at 0x3951a690f0>"
      ]
     },
     "execution_count": 19,
     "metadata": {},
     "output_type": "execute_result"
    },
    {
     "data": {
      "image/png": "[encoded data removed]",
      "text/plain": [
       "<matplotlib.figure.Figure at 0x39514d7a20>"
      ]
     },
     "metadata": {},
     "output_type": "display_data"
    }
   ],
   "source": [
    "# plot the sns plot for critics value\n",
    "sns.set_context(\"paper\")\n",
    "plt.figure(figsize=(8, 6))\n",
    "sns.set(font_scale=1.5)\n",
    "ax = sns.countplot(x=\"critics_pick\", data=restored_df, palette=\"cubehelix\")\n",
    "plt.title(\"critics pick value count\")"
   ]
  },
  {
   "cell_type": "code",
   "execution_count": 20,
   "metadata": {
    "collapsed": true
   },
   "outputs": [],
   "source": [
    "# save the plot to output folder\n",
    "plot_name = 'critic_pick_value_count'\n",
    "plot_path = os.path.join(output_folder, plot_name)\n",
    "plot_path+='.png'\n",
    "ax.figure.savefig(plot_path,bbox_inches='tight')"
   ]
  }
 ],
 "metadata": {
  "anaconda-cloud": {},
  "kernelspec": {
   "display_name": "Python [default]",
   "language": "python",
   "name": "python3"
  },
  "language_info": {
   "codemirror_mode": {
    "name": "ipython",
    "version": 3
   },
   "file_extension": ".py",
   "mimetype": "text/x-python",
   "name": "python",
   "nbconvert_exporter": "python",
   "pygments_lexer": "ipython3",
   "version": "3.5.2"
  }
 },
 "nbformat": 4,
 "nbformat_minor": 2
}
