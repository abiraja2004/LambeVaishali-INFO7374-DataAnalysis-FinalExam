{
 "cells": [
  {
   "cell_type": "markdown",
   "metadata": {},
   "source": [
    "#Exploratory analysis\n"
   ]
  },
  {
   "cell_type": "code",
   "execution_count": 1,
   "metadata": {
    "collapsed": false
   },
   "outputs": [],
   "source": [
    "# Import requied modules\n",
    "import os\n",
    "import numpy as np # linear algebra\n",
    "import pandas as pd # data processing, CSV file I/O (e.g. pd.read_csv)\n",
    "import seaborn as sns\n",
    "sns.set(style='white',color_codes=True)\n",
    "\n",
    "import matplotlib.pyplot as plt\n",
    "%matplotlib inline\n",
    "# Path to the output directory.\n",
    "csv_file_path = os.path.join(\".\", \"data\", \"cleaned_data\", \"movie_reviews.csv\")"
   ]
  },
  {
   "cell_type": "code",
   "execution_count": 3,
   "metadata": {
    "collapsed": false
   },
   "outputs": [],
   "source": [
    "df = pd.read_csv(csv_file_path, quoting=2, parse_dates=True, infer_datetime_format=True, encoding=\"UTF-8\")\n"
   ]
  },
  {
   "cell_type": "code",
   "execution_count": 4,
   "metadata": {
    "collapsed": false
   },
   "outputs": [
    {
     "name": "stdout",
     "output_type": "stream",
     "text": [
      "(26893, 12)\n"
     ]
    }
   ],
   "source": [
    "print(df.shape)"
   ]
  },
  {
   "cell_type": "code",
   "execution_count": 5,
   "metadata": {
    "collapsed": false
   },
   "outputs": [
    {
     "name": "stdout",
     "output_type": "stream",
     "text": [
      "<class 'pandas.core.frame.DataFrame'>\n",
      "RangeIndex: 26893 entries, 0 to 26892\n",
      "Data columns (total 12 columns):\n",
      "byline              26893 non-null object\n",
      "critics_pick        26893 non-null bool\n",
      "date_updated        26878 non-null object\n",
      "display_title       26893 non-null object\n",
      "headline            26893 non-null object\n",
      "mpaa_rating         26893 non-null object\n",
      "opening_date        16971 non-null object\n",
      "publication_date    26893 non-null object\n",
      "summary_short       20764 non-null object\n",
      "movie_year          26893 non-null float64\n",
      "movie_month         26893 non-null float64\n",
      "movie_month_name    26893 non-null object\n",
      "dtypes: bool(1), float64(2), object(9)\n",
      "memory usage: 2.3+ MB\n",
      "None\n"
     ]
    }
   ],
   "source": [
    "print(df.info())"
   ]
  },
  {
   "cell_type": "code",
   "execution_count": 6,
   "metadata": {
    "collapsed": false
   },
   "outputs": [
    {
     "name": "stdout",
     "output_type": "stream",
     "text": [
      "Index(['byline', 'critics_pick', 'date_updated', 'display_title', 'headline',\n",
      "       'mpaa_rating', 'opening_date', 'publication_date', 'summary_short',\n",
      "       'movie_year', 'movie_month', 'movie_month_name'],\n",
      "      dtype='object')\n"
     ]
    }
   ],
   "source": [
    "print(df.columns)"
   ]
  },
  {
   "cell_type": "code",
   "execution_count": 7,
   "metadata": {
    "collapsed": false
   },
   "outputs": [
    {
     "name": "stdout",
     "output_type": "stream",
     "text": [
      "         movie_year   movie_month\n",
      "count  26893.000000  26893.000000\n",
      "mean    1981.669840      6.634477\n",
      "std       27.969927      3.385584\n",
      "min     1915.000000      1.000000\n",
      "25%     1957.000000      4.000000\n",
      "50%     1989.000000      7.000000\n",
      "75%     2007.000000     10.000000\n",
      "max     2017.000000     12.000000\n"
     ]
    }
   ],
   "source": [
    "print(df.describe())"
   ]
  },
  {
   "cell_type": "code",
   "execution_count": 108,
   "metadata": {
    "collapsed": false
   },
   "outputs": [
    {
     "name": "stdout",
     "output_type": "stream",
     "text": [
      "<class 'pandas.core.frame.DataFrame'>\n",
      "RangeIndex: 26893 entries, 0 to 26892\n",
      "Data columns (total 9 columns):\n",
      "byline              26893 non-null object\n",
      "critics_pick        26893 non-null bool\n",
      "date_updated        26878 non-null object\n",
      "display_title       26893 non-null object\n",
      "headline            26893 non-null object\n",
      "mpaa_rating         13516 non-null object\n",
      "opening_date        16971 non-null object\n",
      "publication_date    26893 non-null object\n",
      "summary_short       20764 non-null object\n",
      "dtypes: bool(1), object(8)\n",
      "memory usage: 1.7+ MB\n"
     ]
    }
   ],
   "source": [
    "from functools import partial\n",
    "df.apply(partial(pd.to_numeric, errors='ignore')).info()"
   ]
  },
  {
   "cell_type": "code",
   "execution_count": 109,
   "metadata": {
    "collapsed": false
   },
   "outputs": [
    {
     "data": {
      "text/plain": [
       "<seaborn.axisgrid.PairGrid at 0x2368568278>"
      ]
     },
     "execution_count": 109,
     "metadata": {},
     "output_type": "execute_result"
    },
    {
     "data": {
      "image/png": "[encoded data removed]",
      "text/plain": [
       "<matplotlib.figure.Figure at 0x23685f56a0>"
      ]
     },
     "metadata": {},
     "output_type": "display_data"
    }
   ],
   "source": [
    "g = sns.pairplot(df,hue='mpaa_rating')\n",
    "g"
   ]
  },
  {
   "cell_type": "code",
   "execution_count": 110,
   "metadata": {
    "collapsed": false
   },
   "outputs": [
    {
     "data": {
      "text/plain": [
       "<matplotlib.axes._subplots.AxesSubplot at 0x23b7f7e240>"
      ]
     },
     "execution_count": 110,
     "metadata": {},
     "output_type": "execute_result"
    },
    {
     "data": {
      "image/png": "[encoded data removed]",
      "text/plain": [
       "<matplotlib.figure.Figure at 0x23c47db3c8>"
      ]
     },
     "metadata": {},
     "output_type": "display_data"
    }
   ],
   "source": [
    "most_rated = df.groupby('mpaa_rating').size().sort_values(ascending=False).plot(kind='bar')\n",
    "most_rated\n",
    "#count=df.mpaa_rating.value_counts()"
   ]
  },
  {
   "cell_type": "code",
   "execution_count": 111,
   "metadata": {
    "collapsed": false
   },
   "outputs": [],
   "source": [
    "count_mpaa_rating=df.mpaa_rating.value_counts()\n",
    "df['count_mpaa_rating'] = count_mpaa_rating"
   ]
  },
  {
   "cell_type": "code",
   "execution_count": 112,
   "metadata": {
    "collapsed": false
   },
   "outputs": [
    {
     "data": {
      "text/plain": [
       "Bosley Crowther                                  3022\n",
       "Stephen Holden                                   2931\n",
       "Janet Maslin                                     2696\n",
       "Vincent Canby                                    2601\n",
       "A O Scott                                        1790\n",
       "Mordaunt Hall                                    1350\n",
       "Jeannette Catsoulis                              1180\n",
       "Manohla Dargis                                   1142\n",
       "Neil Genzlinger                                   545\n",
       "Howard Thompson                                   536\n",
       "Caryn James                                       527\n",
       "Frank S Nugent                                    511\n",
       "Elvis Mitchell                                    463\n",
       "A H Weiler                                        430\n",
       "Lawrence Van Gelder                               359\n",
       "Andy Webster                                      356\n",
       "Nicolas Rapold                                    353\n",
       "Roger Greenspun                                   348\n",
       "T M P                                             337\n",
       "A W                                               323\n",
       "Dave Kehr                                         272\n",
       "H H T                                             264\n",
       "H T S                                             262\n",
       "Andre Sennwald                                    235\n",
       "T S                                               231\n",
       "Ben Kenigsberg                                    228\n",
       "A D S                                             224\n",
       "Walter Goodman                                    213\n",
       "Rachel Saltz                                      178\n",
       "Nathan Lee                                        176\n",
       "                                                 ... \n",
       "By A H Weiler                                       1\n",
       "Bosley Ceowther                                     1\n",
       "Joseph Giovannini                                   1\n",
       "Bosley Crower                                       1\n",
       "Geoffrey O’Brien                                    1\n",
       "By Caryn James                                      1\n",
       "S C                                                 1\n",
       "A O G                                               1\n",
       "R C P                                               1\n",
       "A H W                                               1\n",
       "Mordaunt Haul                                       1\n",
       "Jane Perlez                                         1\n",
       "Thomas Lask                                         1\n",
       "O G                                                 1\n",
       "Lawrnence Van Gelder                                1\n",
       "James F Clarity Special To The New York Times       1\n",
       "Boslet Crowther                                     1\n",
       "Roger Greenspun, A H Weiler                         1\n",
       "Larry Rohter                                        1\n",
       "Iv                                                  1\n",
       "Donal J Henahan                                     1\n",
       "Morrdaunt Hall                                      1\n",
       "Joan Mellen                                         1\n",
       "Michael Kinsley                                     1\n",
       "I I I I T                                           1\n",
       "Julie Lew                                           1\n",
       "Mordauni Hall                                       1\n",
       "A P S                                               1\n",
       "Franks S Nugent                                     1\n",
       "M0Rdaunt Hall                                       1\n",
       "Name: byline, dtype: int64"
      ]
     },
     "execution_count": 112,
     "metadata": {},
     "output_type": "execute_result"
    }
   ],
   "source": [
    "byline_count= df.byline.value_counts()\n",
    "df['byline_count']= byline_count\n",
    "byline_count"
   ]
  },
  {
   "cell_type": "code",
   "execution_count": 117,
   "metadata": {
    "collapsed": false
   },
   "outputs": [
    {
     "data": {
      "text/plain": [
       "<matplotlib.axes._subplots.AxesSubplot at 0x23e10cb860>"
      ]
     },
     "execution_count": 117,
     "metadata": {},
     "output_type": "execute_result"
    },
    {
     "data": {
      "image/png": "[encoded data removed]",
      "text/plain": [
       "<matplotlib.figure.Figure at 0x23c761f1d0>"
      ]
     },
     "metadata": {},
     "output_type": "display_data"
    }
   ],
   "source": [
    "sns.set_context(\"poster\")\n",
    "plt.figure(figsize=(14, 10))\n",
    "sns.countplot(x=\"mpaa_rating\", data=df, palette=\"hls\")"
   ]
  },
  {
   "cell_type": "code",
   "execution_count": 136,
   "metadata": {
    "collapsed": false
   },
   "outputs": [
    {
     "data": {
      "text/plain": [
       "<matplotlib.axes._subplots.AxesSubplot at 0x23f2a1f0f0>"
      ]
     },
     "execution_count": 136,
     "metadata": {},
     "output_type": "execute_result"
    },
    {
     "data": {
      "image/png": "[encoded data removed]",
      "text/plain": [
       "<matplotlib.figure.Figure at 0x23dfaf2cf8>"
      ]
     },
     "metadata": {},
     "output_type": "display_data"
    }
   ],
   "source": [
    "#sns.set_context(\"poster\")\n",
    "plt.figure(figsize=(14, 10))\n",
    "sns.set_style(\"whitegrid\")\n",
    "sns.countplot(x=\"publication_date\", data=df[:50], palette=\"BrBG\")"
   ]
  },
  {
   "cell_type": "code",
   "execution_count": null,
   "metadata": {
    "collapsed": false
   },
   "outputs": [],
   "source": [
    "sns.set_context(\"paper\")\n",
    "plt.figure(figsize=(8, 6))\n",
    "sns.set(font_scale=1.5)\n",
    "sns.countplot(x=\"critics_pick\", data=df, palette=\"cubehelix\")\n",
    "#fig.savefig('example.png')"
   ]
  }
 ],
 "metadata": {
  "anaconda-cloud": {},
  "kernelspec": {
   "display_name": "Python [conda root]",
   "language": "python",
   "name": "conda-root-py"
  },
  "language_info": {
   "codemirror_mode": {
    "name": "ipython",
    "version": 3
   },
   "file_extension": ".py",
   "mimetype": "text/x-python",
   "name": "python",
   "nbconvert_exporter": "python",
   "pygments_lexer": "ipython3",
   "version": "3.5.2"
  }
 },
 "nbformat": 4,
 "nbformat_minor": 1
}
